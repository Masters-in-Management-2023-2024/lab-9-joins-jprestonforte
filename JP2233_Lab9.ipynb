{
  "cells": [
    {
      "cell_type": "markdown",
      "metadata": {
        "id": "gs_wOGI5yU1w"
      },
      "source": [
        "# OPAN5510 Lab Assignment - Joins\n",
        "\n",
        "This lab focuses on using Polars to perform data joins and aggregations to answer business questions."
      ]
    },
    {
      "cell_type": "markdown",
      "metadata": {
        "id": "1RC5vZJsyU1x"
      },
      "source": [
        "# Bike Trips Dataset\n",
        "\n",
        "## Prerequisites\n",
        "\n",
        "For this assignment, you'll need to use Polars for data manipulation.\n",
        "\n",
        "*Insert a code block to import necessary packages (polars)*"
      ]
    },
    {
      "cell_type": "code",
      "execution_count": null,
      "metadata": {
        "id": "U6sEu6oqyU1x"
      },
      "outputs": [],
      "source": [
        "# Import necessary packages\n",
        "import polars as pl"
      ]
    },
    {
      "cell_type": "markdown",
      "metadata": {
        "id": "BcAhQENByU1x"
      },
      "source": [
        "## Load Datasets\n",
        "\n",
        "Load the `bike_trips.csv` and `bike_weather.csv` files into Polars DataFrames called `trips` and `weather`, respectively.\n",
        "\n",
        "*Insert code block that reads these files into Polars DataFrames*"
      ]
    },
    {
      "cell_type": "code",
      "execution_count": null,
      "metadata": {
        "colab": {
          "base_uri": "https://localhost:8080/"
        },
        "id": "O1NJ_d1SyU1x",
        "outputId": "bc16c459-2621-46a2-83a2-0f5446ecfe57"
      },
      "outputs": [
        {
          "output_type": "stream",
          "name": "stdout",
          "text": [
            "78704\n",
            "733\n"
          ]
        }
      ],
      "source": [
        "# Load the bike trips and weather data\n",
        "\n",
        "import polars as pl\n",
        "\n",
        "trips = pl.read_csv(\"https://raw.githubusercontent.com/philhetzel/opan5510-class9/refs/heads/main/data/bike_trips.csv\", null_values='NA')\n",
        "weather = pl.read_csv(\"https://raw.githubusercontent.com/philhetzel/opan5510-class9/refs/heads/main/data/bike_weather.csv\", null_values=['NA',''])\n",
        "\n",
        "trips = trips.with_columns(pl.col(\"date\").str.strptime(pl.Date, \"%Y-%m-%d\").alias(\"date\")) # ensure date column is typed correctly\n",
        "weather = weather.with_columns(pl.col(\"date\").str.strptime(pl.Date, \"%Y-%m-%d\").alias(\"date\")) # ensure date column is typed correctly\n",
        "print(trips.height)\n",
        "print(weather.height)"
      ]
    },
    {
      "cell_type": "markdown",
      "metadata": {
        "id": "R04JtG9EyU1x"
      },
      "source": [
        "## Business Question 1: What was the average `duration` of trips that occurred in rainy weather?\n",
        "\n",
        "#### Part A: Join the trips and weather data frames\n",
        "\n",
        "The `trips` data represent every ride taken for a bike share company. The `weather` data represent the prevailing weather for a particular day. Join the `trips` and `weather` data together using the `date` column. Name the resulting DataFrame `trips_weather`.\n",
        "\n",
        "*Insert a code block below that joins `trips` to `weather` using the `date` column.*"
      ]
    },
    {
      "cell_type": "code",
      "execution_count": null,
      "metadata": {
        "id": "LMuv46gAyU1y",
        "colab": {
          "base_uri": "https://localhost:8080/"
        },
        "outputId": "f9430fdf-3346-48d6-b6c2-b22015f6965f"
      },
      "outputs": [
        {
          "output_type": "stream",
          "name": "stdout",
          "text": [
            "shape: (78_704, 35)\n",
            "┌────────┬──────────┬─────────────┬────────────┬───┬────────────┬────────┬────────────┬────────────┐\n",
            "│ id     ┆ duration ┆ start_date  ┆ start_stat ┆ … ┆ cloud_cove ┆ events ┆ wind_dir_d ┆ zip_code_r │\n",
            "│ ---    ┆ ---      ┆ ---         ┆ ion_name   ┆   ┆ r          ┆ ---    ┆ egrees     ┆ ight       │\n",
            "│ i64    ┆ i64      ┆ str         ┆ ---        ┆   ┆ ---        ┆ str    ┆ ---        ┆ ---        │\n",
            "│        ┆          ┆             ┆ str        ┆   ┆ i64        ┆        ┆ i64        ┆ i64        │\n",
            "╞════════╪══════════╪═════════════╪════════════╪═══╪════════════╪════════╪════════════╪════════════╡\n",
            "│ 4721   ┆ 3        ┆ 2013-08-29T ┆ Market at  ┆ … ┆ 4          ┆ null   ┆ 286        ┆ 94107      │\n",
            "│        ┆          ┆ 20:27:00Z   ┆ 10th       ┆   ┆            ┆        ┆            ┆            │\n",
            "│ 4812   ┆ 3        ┆ 2013-08-29T ┆ 2nd at     ┆ … ┆ 4          ┆ null   ┆ 286        ┆ 94107      │\n",
            "│        ┆          ┆ 21:30:00Z   ┆ Folsom     ┆   ┆            ┆        ┆            ┆            │\n",
            "│ 4705   ┆ 3        ┆ 2013-08-29T ┆ Golden     ┆ … ┆ 4          ┆ null   ┆ 286        ┆ 94107      │\n",
            "│        ┆          ┆ 20:15:00Z   ┆ Gate at    ┆   ┆            ┆        ┆            ┆            │\n",
            "│        ┆          ┆             ┆ Polk       ┆   ┆            ┆        ┆            ┆            │\n",
            "│ 4841   ┆ 3        ┆ 2013-08-29T ┆ University ┆ … ┆ 4          ┆ null   ┆ 286        ┆ 94107      │\n",
            "│        ┆          ┆ 21:48:00Z   ┆ and        ┆   ┆            ┆        ┆            ┆            │\n",
            "│        ┆          ┆             ┆ Emerson    ┆   ┆            ┆        ┆            ┆            │\n",
            "│ 4668   ┆ 4        ┆ 2013-08-29T ┆ San        ┆ … ┆ 4          ┆ null   ┆ 286        ┆ 94107      │\n",
            "│        ┆          ┆ 19:39:00Z   ┆ Francisco  ┆   ┆            ┆        ┆            ┆            │\n",
            "│        ┆          ┆             ┆ Caltrain 2 ┆   ┆            ┆        ┆            ┆            │\n",
            "│        ┆          ┆             ┆ (330 …     ┆   ┆            ┆        ┆            ┆            │\n",
            "│ …      ┆ …        ┆ …           ┆ …          ┆ … ┆ …          ┆ …      ┆ …          ┆ …          │\n",
            "│ 433040 ┆ 3        ┆ 2014-09-01T ┆ Townsend   ┆ … ┆ 0          ┆ null   ┆ 290        ┆ 94107      │\n",
            "│        ┆          ┆ 14:43:00Z   ┆ at 7th     ┆   ┆            ┆        ┆            ┆            │\n",
            "│ 433035 ┆ 9        ┆ 2014-09-01T ┆ Powell     ┆ … ┆ 0          ┆ null   ┆ 290        ┆ 94107      │\n",
            "│        ┆          ┆ 14:37:00Z   ┆ Street     ┆   ┆            ┆        ┆            ┆            │\n",
            "│        ┆          ┆             ┆ BART       ┆   ┆            ┆        ┆            ┆            │\n",
            "│ 433030 ┆ 6        ┆ 2014-09-01T ┆ Powell     ┆ … ┆ 0          ┆ null   ┆ 290        ┆ 94107      │\n",
            "│        ┆          ┆ 14:31:00Z   ┆ Street     ┆   ┆            ┆        ┆            ┆            │\n",
            "│        ┆          ┆             ┆ BART       ┆   ┆            ┆        ┆            ┆            │\n",
            "│ 433004 ┆ 7        ┆ 2014-09-01T ┆ Steuart at ┆ … ┆ 0          ┆ null   ┆ 290        ┆ 94107      │\n",
            "│        ┆          ┆ 13:36:00Z   ┆ Market     ┆   ┆            ┆        ┆            ┆            │\n",
            "│ 432998 ┆ 6        ┆ 2014-09-01T ┆ Market at  ┆ … ┆ 0          ┆ null   ┆ 290        ┆ 94107      │\n",
            "│        ┆          ┆ 13:16:00Z   ┆ 10th       ┆   ┆            ┆        ┆            ┆            │\n",
            "└────────┴──────────┴─────────────┴────────────┴───┴────────────┴────────┴────────────┴────────────┘\n"
          ]
        }
      ],
      "source": [
        "# Join trips and weather data\n",
        "\n",
        "trips_weather = trips.join(\n",
        "    weather,\n",
        "    on='date',\n",
        "    how='left'\n",
        ")\n",
        "print(trips_weather)\n",
        "\n",
        "\n"
      ]
    },
    {
      "cell_type": "markdown",
      "metadata": {
        "id": "jAmIh2v9yU1y"
      },
      "source": [
        "#### Part B: Calculate the average `duration` of trips in poor weather\n",
        "\n",
        "Using the `trips_weather` DataFrame, compute the average trip `duration` for days that had weather `events` (i.e. anytime a day had an event of anything but `null`). Name the column for average `duration`: `avg_duration`. The resulting DataFrame should have one row and be named `avg_bad_weather`.\n",
        "\n",
        "*Insert a code block that shows the computation of the average trip duration for days that had a weather event.*"
      ]
    },
    {
      "cell_type": "code",
      "execution_count": null,
      "metadata": {
        "id": "GfK-KPe2yU1y",
        "colab": {
          "base_uri": "https://localhost:8080/"
        },
        "outputId": "e8015cb0-47df-4458-811e-122a89747ed8"
      },
      "outputs": [
        {
          "output_type": "stream",
          "name": "stdout",
          "text": [
            "shape: (4, 2)\n",
            "┌───────────────────┬──────────────┐\n",
            "│ events            ┆ avg_duration │\n",
            "│ ---               ┆ ---          │\n",
            "│ str               ┆ f64          │\n",
            "╞═══════════════════╪══════════════╡\n",
            "│ rain-thunderstorm ┆ 9.509434     │\n",
            "│ rain              ┆ 10.491446    │\n",
            "│ fog               ┆ 10.032904    │\n",
            "│ fog-rain          ┆ 11.089655    │\n",
            "└───────────────────┴──────────────┘\n"
          ]
        }
      ],
      "source": [
        "# Calculate average duration for trips with weather events\n",
        "\n",
        "trips_weather\n",
        "\n",
        "avg_bad_weather = (\n",
        "    trips_weather.filter(pl.col(\"events\").is_not_null())\n",
        "    .group_by(pl.col(\"events\"))\n",
        "    .agg(pl.col(\"duration\").mean().alias(\"avg_duration\"))\n",
        ")\n",
        "\n",
        "print(avg_bad_weather)\n",
        "\n",
        "\n"
      ]
    },
    {
      "cell_type": "markdown",
      "metadata": {
        "id": "r1HZVy2qyU1y"
      },
      "source": [
        "# Baseball Dataset\n",
        "\n",
        "## Load Data\n",
        "\n",
        "Load the `Batting.csv`, `People.csv`, and `HallOfFame.csv` datasets into Polars DataFrames.\n",
        "\n",
        "*Insert a code block to load your datasets*"
      ]
    },
    {
      "cell_type": "code",
      "execution_count": null,
      "metadata": {
        "id": "qrZO72DTyU1y",
        "colab": {
          "base_uri": "https://localhost:8080/"
        },
        "outputId": "0721a7e8-cbe5-4019-9cf3-194ef0e30632"
      },
      "outputs": [
        {
          "output_type": "stream",
          "name": "stdout",
          "text": [
            "shape: (112_184, 22)\n",
            "┌───────────┬────────┬───────┬────────┬───┬──────┬──────┬──────┬──────┐\n",
            "│ playerID  ┆ yearID ┆ stint ┆ teamID ┆ … ┆ HBP  ┆ SH   ┆ SF   ┆ GIDP │\n",
            "│ ---       ┆ ---    ┆ ---   ┆ ---    ┆   ┆ ---  ┆ ---  ┆ ---  ┆ ---  │\n",
            "│ str       ┆ i64    ┆ i64   ┆ str    ┆   ┆ str  ┆ str  ┆ str  ┆ i64  │\n",
            "╞═══════════╪════════╪═══════╪════════╪═══╪══════╪══════╪══════╪══════╡\n",
            "│ abercda01 ┆ 1871   ┆ 1     ┆ TRO    ┆ … ┆ null ┆ null ┆ null ┆ 0    │\n",
            "│ addybo01  ┆ 1871   ┆ 1     ┆ RC1    ┆ … ┆ null ┆ null ┆ null ┆ 0    │\n",
            "│ allisar01 ┆ 1871   ┆ 1     ┆ CL1    ┆ … ┆ null ┆ null ┆ null ┆ 1    │\n",
            "│ allisdo01 ┆ 1871   ┆ 1     ┆ WS3    ┆ … ┆ null ┆ null ┆ null ┆ 0    │\n",
            "│ ansonca01 ┆ 1871   ┆ 1     ┆ RC1    ┆ … ┆ null ┆ null ┆ null ┆ 0    │\n",
            "│ …         ┆ …      ┆ …     ┆ …      ┆ … ┆ …    ┆ …    ┆ …    ┆ …    │\n",
            "│ zimmebr01 ┆ 2022   ┆ 1     ┆ TOR    ┆ … ┆ 5    ┆ 1    ┆ 0    ┆ 0    │\n",
            "│ zimmebr01 ┆ 2022   ┆ 2     ┆ PHI    ┆ … ┆ 0    ┆ 0    ┆ 0    ┆ 0    │\n",
            "│ zimmebr01 ┆ 2022   ┆ 3     ┆ TOR    ┆ … ┆ 1    ┆ 0    ┆ 0    ┆ 0    │\n",
            "│ zimmebr02 ┆ 2022   ┆ 1     ┆ BAL    ┆ … ┆ 0    ┆ 0    ┆ 0    ┆ 0    │\n",
            "│ zuninmi01 ┆ 2022   ┆ 1     ┆ TBA    ┆ … ┆ 1    ┆ 0    ┆ 1    ┆ 2    │\n",
            "└───────────┴────────┴───────┴────────┴───┴──────┴──────┴──────┴──────┘\n",
            "shape: (20_676, 26)\n",
            "┌───────────┬───────────┬────────────┬──────────┬───┬──────────┬───────────┬───────────┬───────────┐\n",
            "│ playerID  ┆ birthYear ┆ birthMonth ┆ birthDay ┆ … ┆ retroID  ┆ bbrefID   ┆ deathDate ┆ birthDate │\n",
            "│ ---       ┆ ---       ┆ ---        ┆ ---      ┆   ┆ ---      ┆ ---       ┆ ---       ┆ ---       │\n",
            "│ str       ┆ i64       ┆ i64        ┆ i64      ┆   ┆ str      ┆ str       ┆ str       ┆ str       │\n",
            "╞═══════════╪═══════════╪════════════╪══════════╪═══╪══════════╪═══════════╪═══════════╪═══════════╡\n",
            "│ aardsda01 ┆ 1981      ┆ 12         ┆ 27       ┆ … ┆ aardd001 ┆ aardsda01 ┆ null      ┆ 1981-12-2 │\n",
            "│           ┆           ┆            ┆          ┆   ┆          ┆           ┆           ┆ 7         │\n",
            "│ aaronha01 ┆ 1934      ┆ 2          ┆ 5        ┆ … ┆ aaroh101 ┆ aaronha01 ┆ 2021-01-2 ┆ 1934-02-0 │\n",
            "│           ┆           ┆            ┆          ┆   ┆          ┆           ┆ 2         ┆ 5         │\n",
            "│ aaronto01 ┆ 1939      ┆ 8          ┆ 5        ┆ … ┆ aarot101 ┆ aaronto01 ┆ 1984-08-1 ┆ 1939-08-0 │\n",
            "│           ┆           ┆            ┆          ┆   ┆          ┆           ┆ 6         ┆ 5         │\n",
            "│ aasedo01  ┆ 1954      ┆ 9          ┆ 8        ┆ … ┆ aased001 ┆ aasedo01  ┆ null      ┆ 1954-09-0 │\n",
            "│           ┆           ┆            ┆          ┆   ┆          ┆           ┆           ┆ 8         │\n",
            "│ abadan01  ┆ 1972      ┆ 8          ┆ 25       ┆ … ┆ abada001 ┆ abadan01  ┆ null      ┆ 1972-08-2 │\n",
            "│           ┆           ┆            ┆          ┆   ┆          ┆           ┆           ┆ 5         │\n",
            "│ …         ┆ …         ┆ …          ┆ …        ┆ … ┆ …        ┆ …         ┆ …         ┆ …         │\n",
            "│ zupofr01  ┆ 1939      ┆ 8          ┆ 29       ┆ … ┆ zupof101 ┆ zupofr01  ┆ 2005-03-2 ┆ 1939-08-2 │\n",
            "│           ┆           ┆            ┆          ┆   ┆          ┆           ┆ 5         ┆ 9         │\n",
            "│ zuvelpa01 ┆ 1958      ┆ 10         ┆ 31       ┆ … ┆ zuvep001 ┆ zuvelpa01 ┆ null      ┆ 1958-10-3 │\n",
            "│           ┆           ┆            ┆          ┆   ┆          ┆           ┆           ┆ 1         │\n",
            "│ zuverge01 ┆ 1924      ┆ 8          ┆ 20       ┆ … ┆ zuveg101 ┆ zuverge01 ┆ 2014-09-0 ┆ 1924-08-2 │\n",
            "│           ┆           ┆            ┆          ┆   ┆          ┆           ┆ 8         ┆ 0         │\n",
            "│ zwilldu01 ┆ 1888      ┆ 11         ┆ 2        ┆ … ┆ zwild101 ┆ zwilldu01 ┆ 1978-03-2 ┆ 1888-11-0 │\n",
            "│           ┆           ┆            ┆          ┆   ┆          ┆           ┆ 7         ┆ 2         │\n",
            "│ zychto01  ┆ 1990      ┆ 8          ┆ 7        ┆ … ┆ zycht001 ┆ zychto01  ┆ null      ┆ 1990-08-0 │\n",
            "│           ┆           ┆            ┆          ┆   ┆          ┆           ┆           ┆ 7         │\n",
            "└───────────┴───────────┴────────────┴──────────┴───┴──────────┴───────────┴───────────┴───────────┘\n",
            "shape: (4_323, 9)\n",
            "┌───────────┬────────┬──────────┬─────────┬───┬───────┬──────────┬───────────────────┬─────────────┐\n",
            "│ playerID  ┆ yearID ┆ votedBy  ┆ ballots ┆ … ┆ votes ┆ inducted ┆ category          ┆ needed_note │\n",
            "│ ---       ┆ ---    ┆ ---      ┆ ---     ┆   ┆ ---   ┆ ---      ┆ ---               ┆ ---         │\n",
            "│ str       ┆ i64    ┆ str      ┆ i64     ┆   ┆ i64   ┆ str      ┆ str               ┆ str         │\n",
            "╞═══════════╪════════╪══════════╪═════════╪═══╪═══════╪══════════╪═══════════════════╪═════════════╡\n",
            "│ cobbty01  ┆ 1936   ┆ BBWAA    ┆ 226     ┆ … ┆ 222   ┆ Y        ┆ Player            ┆ null        │\n",
            "│ ruthba01  ┆ 1936   ┆ BBWAA    ┆ 226     ┆ … ┆ 215   ┆ Y        ┆ Player            ┆ null        │\n",
            "│ wagneho01 ┆ 1936   ┆ BBWAA    ┆ 226     ┆ … ┆ 215   ┆ Y        ┆ Player            ┆ null        │\n",
            "│ mathech01 ┆ 1936   ┆ BBWAA    ┆ 226     ┆ … ┆ 205   ┆ Y        ┆ Player            ┆ null        │\n",
            "│ johnswa01 ┆ 1936   ┆ BBWAA    ┆ 226     ┆ … ┆ 189   ┆ Y        ┆ Player            ┆ null        │\n",
            "│ …         ┆ …      ┆ …        ┆ …       ┆ … ┆ …     ┆ …        ┆ …                 ┆ …           │\n",
            "│ hodgegi01 ┆ 2022   ┆ Veterans ┆ null    ┆ … ┆ null  ┆ Y        ┆ Player            ┆ null        │\n",
            "│ kaatji01  ┆ 2022   ┆ Veterans ┆ null    ┆ … ┆ null  ┆ Y        ┆ Player            ┆ null        │\n",
            "│ minosmi01 ┆ 2022   ┆ Veterans ┆ null    ┆ … ┆ null  ┆ Y        ┆ Player            ┆ null        │\n",
            "│ oneilbu01 ┆ 2022   ┆ Veterans ┆ null    ┆ … ┆ null  ┆ Y        ┆ Pioneer/Executive ┆ null        │\n",
            "│ olivato01 ┆ 2022   ┆ Veterans ┆ null    ┆ … ┆ null  ┆ Y        ┆ Player            ┆ null        │\n",
            "└───────────┴────────┴──────────┴─────────┴───┴───────┴──────────┴───────────────────┴─────────────┘\n"
          ]
        }
      ],
      "source": [
        "# Load baseball datasets\n",
        "Batting = pl.read_csv(\"https://raw.githubusercontent.com/philhetzel/opan5510-class9/refs/heads/main/data/Batting.csv\", null_values='NA')\n",
        "People = pl.read_csv(\"https://raw.githubusercontent.com/philhetzel/opan5510-class9/refs/heads/main/data/People.csv\", null_values='NA')\n",
        "HallOfFame = pl.read_csv(\"https://raw.githubusercontent.com/philhetzel/opan5510-class9/refs/heads/main/data/HallOfFame.csv\", null_values='NA')\n",
        "\n",
        "print(Batting)\n",
        "print(People)\n",
        "print(HallOfFame)\n"
      ]
    },
    {
      "cell_type": "markdown",
      "metadata": {
        "id": "M9wo7SwoyU1y"
      },
      "source": [
        "## Question 2: How many home runs (`HR`) were hit by players born in Florida?\n",
        "\n",
        "#### Part A: Join the `Batting` and `People` DataFrames together\n",
        "\n",
        "In order to answer this question, you'll need to use the `Batting` and `People` DataFrames. The `Batting` DataFrame has hitting statistics for every season that an individual player has played. The `People` DataFrame represents biographical data about every professional baseball player.\n",
        "\n",
        "Join the `People` DataFrame into the `Batting` DataFrame so that we can perform analysis on batting statistics using columns from the `People` DataFrame. Name the new DataFrame `stats_w_bio`.\n",
        "\n",
        "*Insert a code block that joins the `Batting` DataFrame to the `People` DataFrame.*"
      ]
    },
    {
      "cell_type": "code",
      "execution_count": null,
      "metadata": {
        "id": "BOYs3snEyU1y",
        "colab": {
          "base_uri": "https://localhost:8080/"
        },
        "outputId": "dc6caa67-1ecc-4f58-90cd-cf3f4c44a801"
      },
      "outputs": [
        {
          "output_type": "stream",
          "name": "stdout",
          "text": [
            "shape: (112_391, 47)\n",
            "┌───────────┬───────────┬────────────┬──────────┬───┬─────┬─────┬──────┬──────┐\n",
            "│ playerID  ┆ birthYear ┆ birthMonth ┆ birthDay ┆ … ┆ HBP ┆ SH  ┆ SF   ┆ GIDP │\n",
            "│ ---       ┆ ---       ┆ ---        ┆ ---      ┆   ┆ --- ┆ --- ┆ ---  ┆ ---  │\n",
            "│ str       ┆ i64       ┆ i64        ┆ i64      ┆   ┆ str ┆ str ┆ str  ┆ i64  │\n",
            "╞═══════════╪═══════════╪════════════╪══════════╪═══╪═════╪═════╪══════╪══════╡\n",
            "│ aardsda01 ┆ 1981      ┆ 12         ┆ 27       ┆ … ┆ 0   ┆ 0   ┆ 0    ┆ 0    │\n",
            "│ aardsda01 ┆ 1981      ┆ 12         ┆ 27       ┆ … ┆ 0   ┆ 1   ┆ 0    ┆ 0    │\n",
            "│ aardsda01 ┆ 1981      ┆ 12         ┆ 27       ┆ … ┆ 0   ┆ 0   ┆ 0    ┆ 0    │\n",
            "│ aardsda01 ┆ 1981      ┆ 12         ┆ 27       ┆ … ┆ 0   ┆ 0   ┆ 0    ┆ 0    │\n",
            "│ aardsda01 ┆ 1981      ┆ 12         ┆ 27       ┆ … ┆ 0   ┆ 0   ┆ 0    ┆ 0    │\n",
            "│ …         ┆ …         ┆ …          ┆ …        ┆ … ┆ …   ┆ …   ┆ …    ┆ …    │\n",
            "│ zwilldu01 ┆ 1888      ┆ 11         ┆ 2        ┆ … ┆ 2   ┆ 18  ┆ null ┆ null │\n",
            "│ zwilldu01 ┆ 1888      ┆ 11         ┆ 2        ┆ … ┆ 0   ┆ 2   ┆ null ┆ null │\n",
            "│ zychto01  ┆ 1990      ┆ 8          ┆ 7        ┆ … ┆ 0   ┆ 0   ┆ 0    ┆ 0    │\n",
            "│ zychto01  ┆ 1990      ┆ 8          ┆ 7        ┆ … ┆ 0   ┆ 0   ┆ 0    ┆ 0    │\n",
            "│ zychto01  ┆ 1990      ┆ 8          ┆ 7        ┆ … ┆ 0   ┆ 0   ┆ 0    ┆ 0    │\n",
            "└───────────┴───────────┴────────────┴──────────┴───┴─────┴─────┴──────┴──────┘\n"
          ]
        }
      ],
      "source": [
        "# Join Batting and People DataFrames\n",
        "\n",
        "stats_w_bio = Batting.join(People, on=\"player\")\n"
      ]
    },
    {
      "cell_type": "markdown",
      "metadata": {
        "id": "Pr63NEFcyU1y"
      },
      "source": [
        "#### Part B: Calculate the total number of home runs that were hit by Florida-born players\n",
        "\n",
        "You would like to perform an analysis about how many home runs (`HR`) were hit by players that were born in the `birthState` of Florida (`FL`). Using the new `stats_w_bio` DataFrame that combines batting statistics with biographical information, compute the total number of home runs (`HR`) hit by players who were born (`birthState`) in Florida (`FL`) and name the new column `total_hr`. The DataFrame should have one row and be named `florida_hr`.\n",
        "\n",
        "*Insert a block of code that shows the computation of total home runs hit by players born in Florida. The output of this code block should be a DataFrame.*"
      ]
    },
    {
      "cell_type": "code",
      "execution_count": 23,
      "metadata": {
        "id": "bBGsxFDUyU1y",
        "colab": {
          "base_uri": "https://localhost:8080/"
        },
        "outputId": "b947fe0f-c166-4731-b1dc-c56c8b7fb907"
      },
      "outputs": [
        {
          "output_type": "stream",
          "name": "stdout",
          "text": [
            "shape: (1, 1)\n",
            "┌──────────┐\n",
            "│ total_hr │\n",
            "│ ---      │\n",
            "│ i64      │\n",
            "╞══════════╡\n",
            "│ 16225    │\n",
            "└──────────┘ shape: (112_184, 47)\n",
            "┌───────────┬────────┬───────┬────────┬───┬──────────┬───────────┬────────────┬────────────┐\n",
            "│ playerID  ┆ yearID ┆ stint ┆ teamID ┆ … ┆ retroID  ┆ bbrefID   ┆ deathDate  ┆ birthDate  │\n",
            "│ ---       ┆ ---    ┆ ---   ┆ ---    ┆   ┆ ---      ┆ ---       ┆ ---        ┆ ---        │\n",
            "│ str       ┆ i64    ┆ i64   ┆ str    ┆   ┆ str      ┆ str       ┆ str        ┆ str        │\n",
            "╞═══════════╪════════╪═══════╪════════╪═══╪══════════╪═══════════╪════════════╪════════════╡\n",
            "│ abercda01 ┆ 1871   ┆ 1     ┆ TRO    ┆ … ┆ aberd101 ┆ abercda01 ┆ 1939-11-11 ┆ 1850-01-02 │\n",
            "│ addybo01  ┆ 1871   ┆ 1     ┆ RC1    ┆ … ┆ addyb101 ┆ addybo01  ┆ 1910-04-09 ┆ null       │\n",
            "│ allisar01 ┆ 1871   ┆ 1     ┆ CL1    ┆ … ┆ allia101 ┆ allisar01 ┆ 1916-02-25 ┆ 1849-01-29 │\n",
            "│ allisdo01 ┆ 1871   ┆ 1     ┆ WS3    ┆ … ┆ allid101 ┆ allisdo01 ┆ 1916-12-19 ┆ 1846-07-12 │\n",
            "│ ansonca01 ┆ 1871   ┆ 1     ┆ RC1    ┆ … ┆ ansoc101 ┆ ansonca01 ┆ 1922-04-14 ┆ 1852-04-17 │\n",
            "│ …         ┆ …      ┆ …     ┆ …      ┆ … ┆ …        ┆ …         ┆ …          ┆ …          │\n",
            "│ zimmebr01 ┆ 2022   ┆ 1     ┆ TOR    ┆ … ┆ zimmb001 ┆ zimmebr01 ┆ null       ┆ 1992-11-27 │\n",
            "│ zimmebr01 ┆ 2022   ┆ 2     ┆ PHI    ┆ … ┆ zimmb001 ┆ zimmebr01 ┆ null       ┆ 1992-11-27 │\n",
            "│ zimmebr01 ┆ 2022   ┆ 3     ┆ TOR    ┆ … ┆ zimmb001 ┆ zimmebr01 ┆ null       ┆ 1992-11-27 │\n",
            "│ zimmebr02 ┆ 2022   ┆ 1     ┆ BAL    ┆ … ┆ zimmb002 ┆ zimmebr02 ┆ null       ┆ 1995-02-09 │\n",
            "│ zuninmi01 ┆ 2022   ┆ 1     ┆ TBA    ┆ … ┆ zunim001 ┆ zuninmi01 ┆ null       ┆ 1991-03-25 │\n",
            "└───────────┴────────┴───────┴────────┴───┴──────────┴───────────┴────────────┴────────────┘\n"
          ]
        }
      ],
      "source": [
        "# Calculate total home runs by Florida-born players\n",
        "\n",
        "import polars as pl\n",
        "\n",
        "Batting = pl.read_csv(\"https://raw.githubusercontent.com/philhetzel/opan5510-class9/refs/heads/main/data/Batting.csv\", null_values='NA')\n",
        "People = pl.read_csv(\"https://raw.githubusercontent.com/philhetzel/opan5510-class9/refs/heads/main/data/People.csv\", null_values='NA')\n",
        "\n",
        "stats_w_bio = Batting.join(People, on=\"playerID\")\n",
        "\n",
        "florida_hr = (\n",
        "    stats_w_bio.filter(pl.col(\"birthState\") == \"FL\")\n",
        "    .select(pl.col(\"HR\").sum().alias(\"total_hr\"))\n",
        ")\n",
        "\n",
        "print(florida_hr, stats_w_bio)"
      ]
    },
    {
      "cell_type": "markdown",
      "metadata": {
        "id": "d5v5qjkayU1y"
      },
      "source": [
        "## Question 3: What are the average number of career Hits (`H`) for Hall of Fame baseball players?\n",
        "\n",
        "#### Part A: Clean the `HallOfFame` DataFrame\n",
        "\n",
        "You would like to perform an analysis on the batting statistics of Hall of Fame baseball players. In order to answer this question, you'll need to use the `Batting` and `HallOfFame` DataFrames.\n",
        "\n",
        "The first thing that you have to do to perform this analysis is to join the `HallOfFame` data into the `Batting` data to understand which players are \"Hall of Famers\". To join the data correctly, we have to ensure that the `playerID` field is unique in `HallOfFame`. Not every player in the `HallOfFame` DataFrame is a Hall of Famer; their `inducted` field must have the value of `Y` and their `category` field should have the value of `Player`. Name the new DataFrame `hall_inducted`.\n",
        "\n",
        "*Insert a code block to transform the `HallOfFame` DataFrame to ensure that `playerID` is unique.*"
      ]
    },
    {
      "cell_type": "code",
      "execution_count": 22,
      "metadata": {
        "id": "P0lc9qLPyU1y",
        "colab": {
          "base_uri": "https://localhost:8080/",
          "height": 255
        },
        "outputId": "c35b3418-a5fe-471c-8196-9eb3f9e9145a"
      },
      "outputs": [
        {
          "output_type": "execute_result",
          "data": {
            "text/plain": [
              "shape: (5, 9)\n",
              "┌───────────┬────────┬──────────────┬─────────┬───┬───────┬──────────┬──────────┬─────────────┐\n",
              "│ playerID  ┆ yearID ┆ votedBy      ┆ ballots ┆ … ┆ votes ┆ inducted ┆ category ┆ needed_note │\n",
              "│ ---       ┆ ---    ┆ ---          ┆ ---     ┆   ┆ ---   ┆ ---      ┆ ---      ┆ ---         │\n",
              "│ str       ┆ i64    ┆ str          ┆ i64     ┆   ┆ i64   ┆ str      ┆ str      ┆ str         │\n",
              "╞═══════════╪════════╪══════════════╪═════════╪═══╪═══════╪══════════╪══════════╪═════════════╡\n",
              "│ rodriiv01 ┆ 2017   ┆ BBWAA        ┆ 442     ┆ … ┆ 336   ┆ Y        ┆ Player   ┆ null        │\n",
              "│ gibsojo99 ┆ 1972   ┆ Negro League ┆ null    ┆ … ┆ null  ┆ Y        ┆ Player   ┆ null        │\n",
              "│ leonabu99 ┆ 1972   ┆ Negro League ┆ null    ┆ … ┆ null  ┆ Y        ┆ Player   ┆ null        │\n",
              "│ planked01 ┆ 1946   ┆ Old Timers   ┆ null    ┆ … ┆ null  ┆ Y        ┆ Player   ┆ null        │\n",
              "│ morrija02 ┆ 2018   ┆ Veterans     ┆ null    ┆ … ┆ null  ┆ Y        ┆ Player   ┆ null        │\n",
              "└───────────┴────────┴──────────────┴─────────┴───┴───────┴──────────┴──────────┴─────────────┘"
            ],
            "text/html": [
              "<div><style>\n",
              ".dataframe > thead > tr,\n",
              ".dataframe > tbody > tr {\n",
              "  text-align: right;\n",
              "  white-space: pre-wrap;\n",
              "}\n",
              "</style>\n",
              "<small>shape: (5, 9)</small><table border=\"1\" class=\"dataframe\"><thead><tr><th>playerID</th><th>yearID</th><th>votedBy</th><th>ballots</th><th>needed</th><th>votes</th><th>inducted</th><th>category</th><th>needed_note</th></tr><tr><td>str</td><td>i64</td><td>str</td><td>i64</td><td>i64</td><td>i64</td><td>str</td><td>str</td><td>str</td></tr></thead><tbody><tr><td>&quot;rodriiv01&quot;</td><td>2017</td><td>&quot;BBWAA&quot;</td><td>442</td><td>332</td><td>336</td><td>&quot;Y&quot;</td><td>&quot;Player&quot;</td><td>null</td></tr><tr><td>&quot;gibsojo99&quot;</td><td>1972</td><td>&quot;Negro League&quot;</td><td>null</td><td>null</td><td>null</td><td>&quot;Y&quot;</td><td>&quot;Player&quot;</td><td>null</td></tr><tr><td>&quot;leonabu99&quot;</td><td>1972</td><td>&quot;Negro League&quot;</td><td>null</td><td>null</td><td>null</td><td>&quot;Y&quot;</td><td>&quot;Player&quot;</td><td>null</td></tr><tr><td>&quot;planked01&quot;</td><td>1946</td><td>&quot;Old Timers&quot;</td><td>null</td><td>null</td><td>null</td><td>&quot;Y&quot;</td><td>&quot;Player&quot;</td><td>null</td></tr><tr><td>&quot;morrija02&quot;</td><td>2018</td><td>&quot;Veterans&quot;</td><td>null</td><td>null</td><td>null</td><td>&quot;Y&quot;</td><td>&quot;Player&quot;</td><td>null</td></tr></tbody></table></div>"
            ]
          },
          "metadata": {},
          "execution_count": 22
        }
      ],
      "source": [
        "# Clean HallOfFame DataFrame\n",
        "import polars as pl\n",
        "\n",
        "Batting = pl.read_csv(\"https://raw.githubusercontent.com/philhetzel/opan5510-class9/refs/heads/main/data/Batting.csv\", null_values='NA')\n",
        "HallOfFame = pl.read_csv(\"https://raw.githubusercontent.com/philhetzel/opan5510-class9/refs/heads/main/data/HallOfFame.csv\", null_values='NA')\n",
        "\n",
        "hall_inducted = HallOfFame.filter(\n",
        "    (pl.col('inducted') == 'Y') &\n",
        "    (pl.col('category') == 'Player')\n",
        ")\n",
        "\n",
        "hall_inducted = hall_inducted.unique(subset=['playerID'])\n",
        "\n",
        "\n",
        "hall_inducted.head()"
      ]
    },
    {
      "cell_type": "markdown",
      "metadata": {
        "id": "A6z9HFdjyU1y"
      },
      "source": [
        "#### Part B: Find the average number of career hits across Hall of Fame players\n",
        "\n",
        "Join the `hall_inducted` data into the `Batting` data by `playerID`. Aggregate the data to compute the average total hits (`H`) across all Hall of Fame players. To do this, you will first need to calculate the total number of hits for each player and then calculate the average hits across all players. Call the new column `average_hits`. The resulting DataFrame should have one row and be named `hof_hits`.\n",
        "\n",
        "*Insert a code block that joins the `Batting` and the `hall_inducted` data together and then calculates the average number of career hits (`H`) across all Hall of Fame players. The output of this code block should be a DataFrame.*"
      ]
    },
    {
      "cell_type": "code",
      "execution_count": null,
      "metadata": {
        "id": "JzWY4cVbyU1y",
        "colab": {
          "base_uri": "https://localhost:8080/"
        },
        "outputId": "4d868e1b-7640-402a-9c01-b5485be30aa0"
      },
      "outputs": [
        {
          "output_type": "stream",
          "name": "stdout",
          "text": [
            "shape: (1, 1)\n",
            "┌──────────────┐\n",
            "│ average_hits │\n",
            "│ ---          │\n",
            "│ f64          │\n",
            "╞══════════════╡\n",
            "│ 1717.29918   │\n",
            "└──────────────┘\n"
          ]
        }
      ],
      "source": [
        "# Calculate average career hits for Hall of Fame players\n",
        "\n",
        "import polars as pl\n",
        "\n",
        "Batting = pl.read_csv(\"https://raw.githubusercontent.com/philhetzel/opan5510-class9/refs/heads/main/data/Batting.csv\", null_values='NA')\n",
        "HallOfFame = pl.read_csv(\"https://raw.githubusercontent.com/philhetzel/opan5510-class9/refs/heads/main/data/HallOfFame.csv\", null_values='NA')\n",
        "\n",
        "\n",
        "\n",
        "hof_batting = Batting.join(\n",
        "    hall_inducted,\n",
        "    on='playerID',\n",
        "    how='inner'\n",
        ")\n",
        "\n",
        "\n",
        "career_hits = hof_batting.group_by(\"playerID\").agg(\n",
        "    pl.col(\"H\").sum().alias(\"career_H\")\n",
        ")\n",
        "\n",
        "\n",
        "hof_hits = career_hits.select(\n",
        "    pl.col(\"career_H\").mean().alias(\"average_hits\")\n",
        ")\n",
        "\n",
        "\n",
        "print(hof_hits)"
      ]
    }
  ],
  "metadata": {
    "kernelspec": {
      "display_name": "Python 3",
      "language": "python",
      "name": "python3"
    },
    "language_info": {
      "codemirror_mode": {
        "name": "ipython",
        "version": 3
      },
      "file_extension": ".py",
      "mimetype": "text/x-python",
      "name": "python",
      "nbconvert_exporter": "python",
      "pygments_lexer": "ipython3",
      "version": "3.12.0"
    },
    "colab": {
      "provenance": []
    }
  },
  "nbformat": 4,
  "nbformat_minor": 0
}